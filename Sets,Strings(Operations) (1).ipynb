{
 "cells": [
  {
   "cell_type": "code",
   "execution_count": 1,
   "id": "0dea0caa-7332-4e13-84e8-e3e171f571e8",
   "metadata": {},
   "outputs": [
    {
     "name": "stdout",
     "output_type": "stream",
     "text": [
      "{3, 4, 'Hello', 7}\n",
      "{3, 4, 5, 6, 9, 'Hello'}\n"
     ]
    }
   ],
   "source": [
    "#Sets\n",
    "set1={3,4,7,\"Hello\"}\n",
    "set2={3,4,5,6,3,3,6,9,\"Hello\"}\n",
    "print(set1)\n",
    "print(set2)\n"
   ]
  },
  {
   "cell_type": "code",
   "execution_count": 2,
   "id": "f2328513-0949-442c-bd4d-6574da4ff73f",
   "metadata": {},
   "outputs": [
    {
     "data": {
      "text/plain": [
       "{1, 2, 3, 46, 343}"
      ]
     },
     "execution_count": 2,
     "metadata": {},
     "output_type": "execute_result"
    }
   ],
   "source": [
    "L1=[1,2,3,46,343]\n",
    "S1=set(L1)\n",
    "S1"
   ]
  },
  {
   "cell_type": "code",
   "execution_count": 3,
   "id": "7ca9a426-8a06-4580-b04a-d6b02d2b470e",
   "metadata": {},
   "outputs": [
    {
     "data": {
      "text/plain": [
       "{1, 2, 3, 4, 5, 6}"
      ]
     },
     "execution_count": 3,
     "metadata": {},
     "output_type": "execute_result"
    }
   ],
   "source": [
    "#Uniuon Operation\n",
    "s1={1,2,3,4}\n",
    "s2={3,4,5,6}\n",
    "s1|s2\n",
    "\n"
   ]
  },
  {
   "cell_type": "code",
   "execution_count": 4,
   "id": "f64834b3-747a-49e2-8b2a-27beff87af9e",
   "metadata": {},
   "outputs": [
    {
     "data": {
      "text/plain": [
       "{1, 2, 3, 4, 5, 6}"
      ]
     },
     "execution_count": 4,
     "metadata": {},
     "output_type": "execute_result"
    }
   ],
   "source": [
    "s1.union(s2)"
   ]
  },
  {
   "cell_type": "code",
   "execution_count": 5,
   "id": "31f2a19c-5677-4e98-ad56-36298e591c64",
   "metadata": {},
   "outputs": [
    {
     "data": {
      "text/plain": [
       "{3, 4}"
      ]
     },
     "execution_count": 5,
     "metadata": {},
     "output_type": "execute_result"
    }
   ],
   "source": [
    "s1&s2"
   ]
  },
  {
   "cell_type": "code",
   "execution_count": 6,
   "id": "ae7ae76d-6722-4090-8d06-98603b416701",
   "metadata": {},
   "outputs": [
    {
     "data": {
      "text/plain": [
       "{3, 4}"
      ]
     },
     "execution_count": 6,
     "metadata": {},
     "output_type": "execute_result"
    }
   ],
   "source": [
    "s1.intersection(s2)"
   ]
  },
  {
   "cell_type": "code",
   "execution_count": 7,
   "id": "98568198-e70b-404a-932c-87215b063981",
   "metadata": {},
   "outputs": [
    {
     "data": {
      "text/plain": [
       "{1, 2}"
      ]
     },
     "execution_count": 7,
     "metadata": {},
     "output_type": "execute_result"
    }
   ],
   "source": [
    "s1-s2"
   ]
  },
  {
   "cell_type": "code",
   "execution_count": 8,
   "id": "4705d4c8-5001-4352-924a-287a59b155a3",
   "metadata": {},
   "outputs": [
    {
     "data": {
      "text/plain": [
       "{5, 6}"
      ]
     },
     "execution_count": 8,
     "metadata": {},
     "output_type": "execute_result"
    }
   ],
   "source": [
    "s2-s1"
   ]
  },
  {
   "cell_type": "code",
   "execution_count": 10,
   "id": "048cb049-32a9-4ef7-be7d-b60c4b070a9a",
   "metadata": {},
   "outputs": [
    {
     "name": "stdout",
     "output_type": "stream",
     "text": [
      "{1, 2, 5, 6}\n",
      "{1, 2, 5, 6}\n"
     ]
    }
   ],
   "source": [
    "x=s1.symmetric_difference(s2)\n",
    "y=s2.symmetric_difference(s1)\n",
    "print(x)\n",
    "print(y)"
   ]
  },
  {
   "cell_type": "code",
   "execution_count": 23,
   "id": "be09fc7f-2232-4404-adc3-8efb761ff842",
   "metadata": {},
   "outputs": [
    {
     "data": {
      "text/plain": [
       "False"
      ]
     },
     "execution_count": 23,
     "metadata": {},
     "output_type": "execute_result"
    }
   ],
   "source": [
    "s2.issuperset(s1)"
   ]
  },
  {
   "cell_type": "code",
   "execution_count": 16,
   "id": "176d00dd-22c9-4cb0-a362-cac72d186ad6",
   "metadata": {},
   "outputs": [
    {
     "data": {
      "text/plain": [
       "False"
      ]
     },
     "execution_count": 16,
     "metadata": {},
     "output_type": "execute_result"
    }
   ],
   "source": [
    "s2.issubset(s1)"
   ]
  },
  {
   "cell_type": "code",
   "execution_count": 17,
   "id": "ef1b0370-d1a1-49a3-a901-1d506377438c",
   "metadata": {},
   "outputs": [
    {
     "name": "stdout",
     "output_type": "stream",
     "text": [
      "<class 'str'>\n",
      "<class 'str'>\n",
      "<class 'str'>\n"
     ]
    }
   ],
   "source": [
    "#Strings and Operations\n",
    "str1=\"Welcome Guys\"\n",
    "str2='Lets have a Party'\n",
    "str3='''The Party is awesome'''\n",
    "print(type(str1))\n",
    "print(type(str2))\n",
    "print(type(str3))"
   ]
  },
  {
   "cell_type": "code",
   "execution_count": 22,
   "id": "4d5f7c18-6c8f-4fe8-8d40-fc8929dc9e1b",
   "metadata": {},
   "outputs": [
    {
     "name": "stdout",
     "output_type": "stream",
     "text": [
      "Welcome Guys\n"
     ]
    },
    {
     "data": {
      "text/plain": [
       "'me '"
      ]
     },
     "execution_count": 22,
     "metadata": {},
     "output_type": "execute_result"
    }
   ],
   "source": [
    "#Slicing of Strings\n",
    "print(str1)\n",
    "str1[5:8]"
   ]
  },
  {
   "cell_type": "code",
   "execution_count": 19,
   "id": "1b2ecfa4-783e-42e3-a718-b977cda96f0d",
   "metadata": {},
   "outputs": [
    {
     "data": {
      "text/plain": [
       "['__add__',\n",
       " '__class__',\n",
       " '__contains__',\n",
       " '__delattr__',\n",
       " '__dir__',\n",
       " '__doc__',\n",
       " '__eq__',\n",
       " '__format__',\n",
       " '__ge__',\n",
       " '__getattribute__',\n",
       " '__getitem__',\n",
       " '__getnewargs__',\n",
       " '__getstate__',\n",
       " '__gt__',\n",
       " '__hash__',\n",
       " '__init__',\n",
       " '__init_subclass__',\n",
       " '__iter__',\n",
       " '__le__',\n",
       " '__len__',\n",
       " '__lt__',\n",
       " '__mod__',\n",
       " '__mul__',\n",
       " '__ne__',\n",
       " '__new__',\n",
       " '__reduce__',\n",
       " '__reduce_ex__',\n",
       " '__repr__',\n",
       " '__rmod__',\n",
       " '__rmul__',\n",
       " '__setattr__',\n",
       " '__sizeof__',\n",
       " '__str__',\n",
       " '__subclasshook__',\n",
       " 'capitalize',\n",
       " 'casefold',\n",
       " 'center',\n",
       " 'count',\n",
       " 'encode',\n",
       " 'endswith',\n",
       " 'expandtabs',\n",
       " 'find',\n",
       " 'format',\n",
       " 'format_map',\n",
       " 'index',\n",
       " 'isalnum',\n",
       " 'isalpha',\n",
       " 'isascii',\n",
       " 'isdecimal',\n",
       " 'isdigit',\n",
       " 'isidentifier',\n",
       " 'islower',\n",
       " 'isnumeric',\n",
       " 'isprintable',\n",
       " 'isspace',\n",
       " 'istitle',\n",
       " 'isupper',\n",
       " 'join',\n",
       " 'ljust',\n",
       " 'lower',\n",
       " 'lstrip',\n",
       " 'maketrans',\n",
       " 'partition',\n",
       " 'removeprefix',\n",
       " 'removesuffix',\n",
       " 'replace',\n",
       " 'rfind',\n",
       " 'rindex',\n",
       " 'rjust',\n",
       " 'rpartition',\n",
       " 'rsplit',\n",
       " 'rstrip',\n",
       " 'split',\n",
       " 'splitlines',\n",
       " 'startswith',\n",
       " 'strip',\n",
       " 'swapcase',\n",
       " 'title',\n",
       " 'translate',\n",
       " 'upper',\n",
       " 'zfill']"
      ]
     },
     "execution_count": 19,
     "metadata": {},
     "output_type": "execute_result"
    }
   ],
   "source": [
    "#String Methods\n",
    "dir(str)"
   ]
  },
  {
   "cell_type": "code",
   "execution_count": 21,
   "id": "59a2231b-6692-4e0a-b8a7-606bfd965ab4",
   "metadata": {},
   "outputs": [
    {
     "name": "stdout",
     "output_type": "stream",
     "text": [
      "Welcome Guys\n"
     ]
    },
    {
     "data": {
      "text/plain": [
       "['Welcome', 'Guys']"
      ]
     },
     "execution_count": 21,
     "metadata": {},
     "output_type": "execute_result"
    }
   ],
   "source": [
    "#Split usin gGenerating Words Tokens\n",
    "print(str1)\n",
    "str1.split()"
   ]
  },
  {
   "cell_type": "code",
   "execution_count": 26,
   "id": "ed4164ae-eb5d-470e-8d5c-24efd65764ef",
   "metadata": {},
   "outputs": [
    {
     "data": {
      "text/plain": [
       "'H   e   l   l   o'"
      ]
     },
     "execution_count": 26,
     "metadata": {},
     "output_type": "execute_result"
    }
   ],
   "source": [
    "str3=\"Hello\" \n",
    "'   '.join(str3)\n"
   ]
  },
  {
   "cell_type": "code",
   "execution_count": 28,
   "id": "8b394e25-ce1b-4070-a9f8-962bdfc63486",
   "metadata": {},
   "outputs": [
    {
     "name": "stdout",
     "output_type": "stream",
     "text": [
      "        He   llo  \n"
     ]
    },
    {
     "data": {
      "text/plain": [
       "'He   llo'"
      ]
     },
     "execution_count": 28,
     "metadata": {},
     "output_type": "execute_result"
    }
   ],
   "source": [
    "#Use of strinp method\n",
    "str4=\"        He   llo  \"\n",
    "print(str4)\n",
    "str4.strip()"
   ]
  },
  {
   "cell_type": "code",
   "execution_count": null,
   "id": "3032a053-67ff-48f1-a98a-dff9bd794c17",
   "metadata": {},
   "outputs": [],
   "source": []
  }
 ],
 "metadata": {
  "kernelspec": {
   "display_name": "Python 3 (ipykernel)",
   "language": "python",
   "name": "python3"
  },
  "language_info": {
   "codemirror_mode": {
    "name": "ipython",
    "version": 3
   },
   "file_extension": ".py",
   "mimetype": "text/x-python",
   "name": "python",
   "nbconvert_exporter": "python",
   "pygments_lexer": "ipython3",
   "version": "3.12.7"
  }
 },
 "nbformat": 4,
 "nbformat_minor": 5
}
