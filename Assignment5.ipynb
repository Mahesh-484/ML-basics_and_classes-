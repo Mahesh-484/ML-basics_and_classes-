{
 "cells": [
  {
   "cell_type": "code",
   "execution_count": 1,
   "id": "27e361c4-f615-4140-89d2-a140676342f9",
   "metadata": {},
   "outputs": [
    {
     "name": "stdin",
     "output_type": "stream",
     "text": [
      " 2324\n"
     ]
    },
    {
     "name": "stdout",
     "output_type": "stream",
     "text": [
      "Even Number\n"
     ]
    }
   ],
   "source": [
    "x=int(input())\n",
    "if x%2==0:\n",
    "    print(\"Even Number\")\n",
    "else:\n",
    "    print(\"Odd Number\")\n"
   ]
  },
  {
   "cell_type": "code",
   "execution_count": 2,
   "id": "04cdb964-95db-42ed-b016-862de6546c68",
   "metadata": {},
   "outputs": [
    {
     "name": "stdin",
     "output_type": "stream",
     "text": [
      " 131\n"
     ]
    },
    {
     "name": "stdout",
     "output_type": "stream",
     "text": [
      "Positive\n"
     ]
    }
   ],
   "source": [
    "x=int(input())\n",
    "result=\"Positive\" if x>0 else\"Negetive\"\n",
    "print(result)"
   ]
  },
  {
   "cell_type": "code",
   "execution_count": 8,
   "id": "510757e8-1368-46ce-97eb-460dadf5b495",
   "metadata": {},
   "outputs": [
    {
     "name": "stdin",
     "output_type": "stream",
     "text": [
      " 0\n"
     ]
    },
    {
     "name": "stdout",
     "output_type": "stream",
     "text": [
      "Zero\n"
     ]
    }
   ],
   "source": [
    "x=int(input())\n",
    "result=\"Posiitve\" if x>0 else(\"Negetive\" if x<0 else\"Zero\")\n",
    "print(result)\n"
   ]
  },
  {
   "cell_type": "code",
   "execution_count": 11,
   "id": "9b429552-69e1-4483-9c74-88269ac9b87f",
   "metadata": {},
   "outputs": [
    {
     "name": "stdin",
     "output_type": "stream",
     "text": [
      " -78\n"
     ]
    },
    {
     "name": "stdout",
     "output_type": "stream",
     "text": [
      "Odd\n"
     ]
    }
   ],
   "source": [
    "x=int(input())\n",
    "print(\"Even\")if x>0 else print(\"Odd\")"
   ]
  },
  {
   "cell_type": "code",
   "execution_count": 12,
   "id": "41ecb013-d415-4c01-9fed-076ee7cc1c92",
   "metadata": {},
   "outputs": [
    {
     "data": {
      "text/plain": [
       "[2, 64, 13152, 8650, 24]"
      ]
     },
     "execution_count": 12,
     "metadata": {},
     "output_type": "execute_result"
    }
   ],
   "source": [
    "L=[1,32,6576,4325,12]\n",
    "[2*x for x in L]"
   ]
  },
  {
   "cell_type": "code",
   "execution_count": 13,
   "id": "37c7a3fe-5445-4623-b83f-136e64b66a5b",
   "metadata": {},
   "outputs": [
    {
     "data": {
      "text/plain": [
       "[32, 6576, 12]"
      ]
     },
     "execution_count": 13,
     "metadata": {},
     "output_type": "execute_result"
    }
   ],
   "source": [
    "L=[1,32,6576,4325,12]\n",
    "[x for x in L if x%2==0]"
   ]
  },
  {
   "cell_type": "code",
   "execution_count": 14,
   "id": "d983b79a-f127-4d6f-8ab1-5e0b9733bee6",
   "metadata": {},
   "outputs": [
    {
     "name": "stdout",
     "output_type": "stream",
     "text": [
      "48000.0\n",
      "50000\n",
      "70000\n",
      "36000.0\n",
      "54000.0\n"
     ]
    }
   ],
   "source": [
    "sal=[40000,50000,70000,30000,45000]\n",
    "for x in sal:\n",
    "    if x<50000:\n",
    "        y=x*1.2\n",
    "        print(y)\n",
    "    else:\n",
    "        print(x)\n"
   ]
  },
  {
   "cell_type": "code",
   "execution_count": 19,
   "id": "c5939465-2660-4435-8507-6b249fcad7c6",
   "metadata": {},
   "outputs": [
    {
     "data": {
      "text/plain": [
       "{'Ram': [23, 76, 4, 43, 13, 34, 45], 'John': [23, 64, 73, 3]}"
      ]
     },
     "execution_count": 19,
     "metadata": {},
     "output_type": "execute_result"
    }
   ],
   "source": [
    "d1={\"Ram\":[23,76,4,43,13,34,45],'John':[23,64,73,3]}\n",
    "d1"
   ]
  },
  {
   "cell_type": "code",
   "execution_count": 20,
   "id": "af69627e-55ff-4c47-8a17-1d13fd71132f",
   "metadata": {},
   "outputs": [
    {
     "data": {
      "text/plain": [
       "{'Ram': 34.0, 'John': 40.75}"
      ]
     },
     "execution_count": 20,
     "metadata": {},
     "output_type": "execute_result"
    }
   ],
   "source": [
    "{k:sum(v)/len(v) for k,v in d1.items()}"
   ]
  },
  {
   "cell_type": "code",
   "execution_count": 23,
   "id": "633a0ec8-1406-49d4-9c2a-d66be2c286b7",
   "metadata": {},
   "outputs": [
    {
     "data": {
      "text/plain": [
       "38.2"
      ]
     },
     "execution_count": 23,
     "metadata": {},
     "output_type": "execute_result"
    }
   ],
   "source": [
    "def mean_value(given_list):\n",
    "    total=sum(given_list)\n",
    "    average_value=total/len(given_list)\n",
    "    return average_value\n",
    "L=[1,45,32,5,5,52,62,51,51,78]\n",
    "mean_value(L)"
   ]
  },
  {
   "cell_type": "code",
   "execution_count": 28,
   "id": "6ac719bb-7648-4623-898e-acfd53415ddf",
   "metadata": {},
   "outputs": [
    {
     "name": "stdin",
     "output_type": "stream",
     "text": [
      " Rama Krishna\n"
     ]
    },
    {
     "name": "stdout",
     "output_type": "stream",
     "text": [
      "Happy Birthday Mr.Rama Krishna\n"
     ]
    }
   ],
   "source": [
    "def Wishes(x):\n",
    "    print(f\"Happy Birthday Mr.{x}\")\n",
    "y=input()\n",
    "Wishes(y)"
   ]
  },
  {
   "cell_type": "code",
   "execution_count": 30,
   "id": "802d0153-eb12-4e19-912a-bb9d511a78b8",
   "metadata": {},
   "outputs": [
    {
     "ename": "NameError",
     "evalue": "name 'ave_value' is not defined",
     "output_type": "error",
     "traceback": [
      "\u001b[1;31m---------------------------------------------------------------------------\u001b[0m",
      "\u001b[1;31mNameError\u001b[0m                                 Traceback (most recent call last)",
      "Cell \u001b[1;32mIn[30], line 5\u001b[0m\n\u001b[0;32m      3\u001b[0m     average\u001b[38;5;241m=\u001b[39m\u001b[38;5;28msum\u001b[39m(n)\u001b[38;5;241m/\u001b[39ml\n\u001b[0;32m      4\u001b[0m     \u001b[38;5;28;01mreturn\u001b[39;00m average\n\u001b[1;32m----> 5\u001b[0m ave_value(\u001b[38;5;241m32\u001b[39m,\u001b[38;5;241m34\u001b[39m,\u001b[38;5;241m24\u001b[39m,\u001b[38;5;241m23\u001b[39m,\u001b[38;5;241m2\u001b[39m,\u001b[38;5;241m3\u001b[39m,\u001b[38;5;241m12\u001b[39m,\u001b[38;5;241m77\u001b[39m,\u001b[38;5;241m6\u001b[39m,\u001b[38;5;241m76\u001b[39m,\u001b[38;5;241m89\u001b[39m,\u001b[38;5;241m45\u001b[39m)\n",
      "\u001b[1;31mNameError\u001b[0m: name 'ave_value' is not defined"
     ]
    }
   ],
   "source": [
    "def avg_value(*n):\n",
    "    l=len(n)\n",
    "    average=sum(n)/l\n",
    "    return average\n",
    "ave_value(32,34,24,23,2,3,12,77,6,76,89,45)\n",
    "    "
   ]
  },
  {
   "cell_type": "code",
   "execution_count": null,
   "id": "ca3cf800-e787-4f42-9490-2ddeb28c56d0",
   "metadata": {},
   "outputs": [],
   "source": []
  },
  {
   "cell_type": "code",
   "execution_count": null,
   "id": "51d1d515-5e21-488d-aa97-7b3ba282b67c",
   "metadata": {},
   "outputs": [],
   "source": []
  }
 ],
 "metadata": {
  "kernelspec": {
   "display_name": "Python 3 (ipykernel)",
   "language": "python",
   "name": "python3"
  },
  "language_info": {
   "codemirror_mode": {
    "name": "ipython",
    "version": 3
   },
   "file_extension": ".py",
   "mimetype": "text/x-python",
   "name": "python",
   "nbconvert_exporter": "python",
   "pygments_lexer": "ipython3",
   "version": "3.12.7"
  }
 },
 "nbformat": 4,
 "nbformat_minor": 5
}
